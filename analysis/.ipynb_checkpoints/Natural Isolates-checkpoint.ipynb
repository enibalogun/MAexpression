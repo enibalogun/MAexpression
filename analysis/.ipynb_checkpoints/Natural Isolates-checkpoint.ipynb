{
 "cells": [
  {
   "cell_type": "markdown",
   "id": "ancient-science",
   "metadata": {
    "toc": true
   },
   "source": [
    "<h1>Table of Contents<span class=\"tocSkip\"></span></h1>\n",
    "<div class=\"toc\"><ul class=\"toc-item\"><li><span><a href=\"#NATURAL-ISOLATES---NOISEQ/CQN/DESEQ2\" data-toc-modified-id=\"NATURAL-ISOLATES---NOISEQ/CQN/DESEQ2-1\"><span class=\"toc-item-num\">1&nbsp;&nbsp;</span>NATURAL ISOLATES - NOISEQ/CQN/DESEQ2</a></span><ul class=\"toc-item\"><li><span><a href=\"#KEYS\" data-toc-modified-id=\"KEYS-1.1\"><span class=\"toc-item-num\">1.1&nbsp;&nbsp;</span>KEYS</a></span></li></ul></li><li><span><a href=\"#PREPPING-READ-DATA\" data-toc-modified-id=\"PREPPING-READ-DATA-2\"><span class=\"toc-item-num\">2&nbsp;&nbsp;</span>PREPPING READ DATA</a></span><ul class=\"toc-item\"><li><ul class=\"toc-item\"><li><span><a href=\"#UNNORMALIZED-GENE-COUNTS\" data-toc-modified-id=\"UNNORMALIZED-GENE-COUNTS-2.0.1\"><span class=\"toc-item-num\">2.0.1&nbsp;&nbsp;</span>UNNORMALIZED GENE COUNTS</a></span></li><li><span><a href=\"#GATHERING-FRAGMENT-LENGTHS-FROM-GFF-FILE\" data-toc-modified-id=\"GATHERING-FRAGMENT-LENGTHS-FROM-GFF-FILE-2.0.2\"><span class=\"toc-item-num\">2.0.2&nbsp;&nbsp;</span>GATHERING FRAGMENT LENGTHS FROM GFF FILE</a></span></li></ul></li><li><span><a href=\"#INSTALLING-PACKAGES-AND-LOADING-LIBRARIES\" data-toc-modified-id=\"INSTALLING-PACKAGES-AND-LOADING-LIBRARIES-2.1\"><span class=\"toc-item-num\">2.1&nbsp;&nbsp;</span>INSTALLING PACKAGES AND LOADING LIBRARIES</a></span></li><li><span><a href=\"#NOISEQ\" data-toc-modified-id=\"NOISEQ-2.2\"><span class=\"toc-item-num\">2.2&nbsp;&nbsp;</span>NOISEQ</a></span><ul class=\"toc-item\"><li><span><a href=\"#PRE-FILTERING-THROUGH-NOISEQ\" data-toc-modified-id=\"PRE-FILTERING-THROUGH-NOISEQ-2.2.1\"><span class=\"toc-item-num\">2.2.1&nbsp;&nbsp;</span>PRE-FILTERING THROUGH NOISEQ</a></span></li><li><span><a href=\"#FILTERED-GC-CONTENT\" data-toc-modified-id=\"FILTERED-GC-CONTENT-2.2.2\"><span class=\"toc-item-num\">2.2.2&nbsp;&nbsp;</span>FILTERED GC CONTENT</a></span></li><li><span><a href=\"#DESEQ-NORMALIZING-NOISEQ-FILTERED-DATA\" data-toc-modified-id=\"DESEQ-NORMALIZING-NOISEQ-FILTERED-DATA-2.2.3\"><span class=\"toc-item-num\">2.2.3&nbsp;&nbsp;</span>DESEQ NORMALIZING NOISEQ FILTERED DATA</a></span></li><li><span><a href=\"#ADDING-GC-CONTENT-TO-DESEQ2-NORMALIZED-NOISEQ-FILTERED-GENE-COUNTS\" data-toc-modified-id=\"ADDING-GC-CONTENT-TO-DESEQ2-NORMALIZED-NOISEQ-FILTERED-GENE-COUNTS-2.2.4\"><span class=\"toc-item-num\">2.2.4&nbsp;&nbsp;</span>ADDING GC CONTENT TO DESEQ2 NORMALIZED NOISEQ FILTERED GENE COUNTS</a></span></li><li><span><a href=\"#CREATING-NOISEQ-DATA-OBJECT\" data-toc-modified-id=\"CREATING-NOISEQ-DATA-OBJECT-2.2.5\"><span class=\"toc-item-num\">2.2.5&nbsp;&nbsp;</span>CREATING NOISEQ DATA OBJECT</a></span></li></ul></li><li><span><a href=\"#CONDITIONAL-QUANTILE-NORMALIZATION\" data-toc-modified-id=\"CONDITIONAL-QUANTILE-NORMALIZATION-2.3\"><span class=\"toc-item-num\">2.3&nbsp;&nbsp;</span>CONDITIONAL QUANTILE NORMALIZATION</a></span></li><li><span><a href=\"#DESEQ2---DIFFERENTIAL-EXPRESSION-ANALYSIS\" data-toc-modified-id=\"DESEQ2---DIFFERENTIAL-EXPRESSION-ANALYSIS-2.4\"><span class=\"toc-item-num\">2.4&nbsp;&nbsp;</span>DESEQ2 - DIFFERENTIAL EXPRESSION ANALYSIS</a></span></li><li><span><a href=\"#GB-STRAINS---EXPRESSION-VARIATION-PER-INCREASING-SAMPLE-SIZE\" data-toc-modified-id=\"GB-STRAINS---EXPRESSION-VARIATION-PER-INCREASING-SAMPLE-SIZE-2.5\"><span class=\"toc-item-num\">2.5&nbsp;&nbsp;</span>GB STRAINS - EXPRESSION VARIATION PER INCREASING SAMPLE SIZE</a></span></li></ul></li></ul></div>"
   ]
  },
  {
   "cell_type": "markdown",
   "id": "toxic-brighton",
   "metadata": {},
   "source": [
    "# NATURAL ISOLATES - NOISEQ/CQN/DESEQ2"
   ]
  },
  {
   "cell_type": "markdown",
   "id": "medium-picture",
   "metadata": {},
   "source": [
    "## KEYS"
   ]
  },
  {
   "cell_type": "code",
   "execution_count": null,
   "id": "bright-light",
   "metadata": {},
   "outputs": [],
   "source": [
    "import json\n",
    "import pandas as pd\n",
    "import numpy as np\n",
    "from numpy import random\n",
    "import math\n",
    "import matplotlib.pyplot as plt\n",
    "import matplotlib.patches as mpatches\n",
    "from matplotlib.figure import Figure\n",
    "from matplotlib.ticker import MaxNLocator\n",
    "from matplotlib.gridspec import GridSpec\n",
    "import seaborn as sns\n",
    "import scipy\n",
    "from scipy import stats\n",
    "from scipy.stats import mannwhitneyu\n",
    "from scipy.stats import fligner\n",
    "from scipy.stats import skewtest\n",
    "stats.junk = lambda chisq, df: stats.chi2.sf(chisq, df)\n",
    "import csv\n",
    "import gffpandas.gffpandas as gffpd\n",
    "import sklearn\n",
    "from sklearn.metrics import r2_score\n",
    "import os\n",
    "import statistics\n",
    "%load_ext rpy2.ipython\n",
    "\n",
    "#### DATAFRAME RECORDING THE GENERATION TIME PER SAMPLE ####\n",
    "dic_gen = {'CC2344-L1': 912.356113, 'CC2344-L10': 917.129696, 'CC2344-L11': 889.5859554, 'CC2344-L12': 950.0552184, 'CC2344-L13': 961.4186064,\n",
    "           'CC2344-L14': 931.447801, 'CC2344-L15': 946.6643063, 'CC2344-L2': 923.1078072, 'CC2344-L3': 1000.469526, 'CC2344-L4': 808.9505794,\n",
    "           'CC2344-L5': 957.6380465, 'CC2344-L6': 970.6307256, 'CC2344-L7': 990.9451516, 'CC2344-L8': 1009.966123, 'CC2344-L9': 901.0619061, \n",
    "           'CC2931-L1': 1050.109001, 'CC2931-L10': 1097.978141, 'CC2931-L11': 1021.13559, 'CC2931-L13': 1041.362593, \n",
    "           'CC2931-L14': 1016.111493, 'CC2931-L15': 1052.540951, 'CC2931-L2': 1056.765369, 'CC2931-L3': 1000.399127, 'CC2931-L4': 1011.411706,\n",
    "           'CC2931-L5': 993.8603657, 'CC2931-L6': 1083.095655, 'CC2931-L7': 1067.34507, 'CC2931-L9': 1079.236285}\n",
    "generations = pd.Series(dic_gen)\n",
    "\n",
    "#### DATAFRAME RECORDING THE NUMBER OF MUTATIONS PER SAMPLE ####\n",
    "dic_mut = {'CC2344-L1': 396, 'CC2344-L10': 59, 'CC2344-L11': 46, 'CC2344-L12': 74, 'CC2344-L13': 49, 'CC2344-L14': 46, 'CC2344-L15': 53, \n",
    "           'CC2344-L2': 80, 'CC2344-L3': 63, 'CC2344-L4': 24, 'CC2344-L5': 68, 'CC2344-L6': 38, 'CC2344-L7': 45, 'CC2344-L8': 75, 'CC2344-L9': 27, \n",
    "           'CC2931-L1': 89, 'CC2931-L10': 87, 'CC2931-L11': 85, 'CC2931-L13': 97, 'CC2931-L14': 79, 'CC2931-L15': 141, 'CC2931-L2': 123,\n",
    "           'CC2931-L3': 52, 'CC2931-L4': 100, 'CC2931-L5': 335, 'CC2931-L6': 84, 'CC2931-L7': 72, 'CC2931-L9': 113}\n",
    "mutations = pd.Series(dic_mut)"
   ]
  },
  {
   "cell_type": "markdown",
   "id": "derived-steps",
   "metadata": {},
   "source": [
    "# PREPPING READ DATA"
   ]
  },
  {
   "cell_type": "markdown",
   "id": "independent-france",
   "metadata": {},
   "source": [
    "### UNNORMALIZED GENE COUNTS "
   ]
  },
  {
   "cell_type": "code",
   "execution_count": null,
   "id": "molecular-spirit",
   "metadata": {},
   "outputs": [],
   "source": [
    "# ## NAMES OF GENE COUNT FILES ##\n",
    "# keyword = 'genes_count'\n",
    "# label = []\n",
    "# for fname in os.listdir('/research/projects/chlamydomonas/MAexpression/data/gene_count/'):\n",
    "#     if keyword in fname:\n",
    "#         fname = fname.replace('_genes_count','')\n",
    "#         if 'GB' in fname:\n",
    "#             label.append(fname)\n",
    "\n",
    "# ## GB NATURAL STRAINS - UNNORMALIZED GENE COUNTS ##\n",
    "# gene_count = pd.DataFrame()\n",
    "# for i in label:\n",
    "#     section = pd.read_csv('/research/projects/chlamydomonas/MAexpression/data/gene_count/' + i + '_genes_count', delimiter = '\\t', names = ['name', i])\n",
    "#     gene_count = pd.concat([gene_count, section], axis = 1)\n",
    "    \n",
    "# gene_count = gene_count.loc[:,~gene_count.columns.duplicated()]\n",
    "# gene_count = gene_count.drop(gene_count.index.values[-5:])\n",
    "# gene_count = gene_count.set_index('name')\n",
    "\n",
    "# ## EXPORTING\n",
    "# gene_count.to_csv('/research/projects/chlamydomonas/MAexpression/analysis/raw_counts/unnormalized_GB_raw.txt', sep = '\\t', index = True, header = True)"
   ]
  },
  {
   "cell_type": "markdown",
   "id": "received-evolution",
   "metadata": {},
   "source": [
    "### GATHERING FRAGMENT LENGTHS FROM GFF FILE"
   ]
  },
  {
   "cell_type": "code",
   "execution_count": null,
   "id": "domestic-metropolitan",
   "metadata": {},
   "outputs": [],
   "source": [
    "# gff = pd.read_csv('/research/projects/chlamydomonas/MAexpression/data/genome_info/v6_genome_plus_anno/CC4532.v1_1.gene_exons.gff3', skiprows=3, delimiter = '\\t')\n",
    "# gff.columns = ['seqid', 'source', 'type', 'start', 'end', 'score', 'strand', 'phase', 'attributes']\n",
    "# gff[['attributes1', 'attributes2', 'attributes3', 'attributes4']] = gff['attributes'].str.split(';', n = 3, expand = True)\n",
    "# gff_exon = gff.loc[gff['type'].isin(['mRNA', 'exon'])]\n",
    "# gff_exon[['attributes1', 'attributes2', 'attributes4']] = gff_exon[['attributes1', 'attributes2', 'attributes4']].replace({'Parent=':'', 'ID=':''}, regex = True)\n",
    "# gff_exon_pos = gff_exon.loc[gff_exon['strand'] == '+']\n",
    "# gff_exon_neg = gff_exon.loc[gff_exon['strand'] == '-']\n",
    "# mRNA = gff_exon.loc[gff_exon['type'] == 'mRNA'].reset_index()\n",
    "# mRNA = mRNA.drop('index', axis = 1)\n",
    "# mRNA['attributes'] = mRNA['attributes'].str.split(';')\n",
    "# mRNA['parent'] = 'nan'\n",
    "# for i in list(mRNA.index.values):\n",
    "#     for a in mRNA.at[i,'attributes']:\n",
    "#         if 'Parent=' in a:\n",
    "#             mRNA.at[i, 'parent'] = a\n",
    "\n",
    "# ## EXTRACTING THE TOTAL SUM OF EXONS PER GENE\n",
    "# mRNA['total_exon_length'] = 'nan'\n",
    "# mRNA.rename(columns={'attributes1': 'ID'}, inplace = True)\n",
    "# mRNA_ID = mRNA['ID'].values.tolist()\n",
    "# gff_exon = gff_exon.loc[gff_exon['type'] == 'exon']\n",
    "\n",
    "# for i in range(len(mRNA_ID)):\n",
    "#     gene_length = []\n",
    "#     section = gff_exon.loc[gff_exon['attributes2'] == mRNA_ID[i]]\n",
    "#     for a in list(section.index.values):\n",
    "#         gene_length.append(section.at[a,'end'] - section.at[a, 'start'])\n",
    "#     mRNA.at[i, 'total_exon_length'] = sum(gene_length)\n",
    "# mRNA_1 = mRNA.drop_duplicates(subset=['parent'], keep='last')\n",
    "\n",
    "# fragment_length = pd.Series(data = mRNA_1['total_exon_length'].values.tolist(), index = list(parent), name = 'total_exon_length')\n",
    "\n",
    "# ## EXPORT DATA\n",
    "# fragment_length.to_csv('/research/projects/chlamydomonas/MAexpression/analysis/fpkm/fragment_length.csv', sep = '\\t', index = True, index_label= 'index', header = True)"
   ]
  },
  {
   "cell_type": "markdown",
   "id": "social-darkness",
   "metadata": {},
   "source": [
    "## INSTALLING PACKAGES AND LOADING LIBRARIES"
   ]
  },
  {
   "cell_type": "code",
   "execution_count": null,
   "id": "substantial-designation",
   "metadata": {},
   "outputs": [],
   "source": [
    "%%R\n",
    "## TIDYVERSE\n",
    "library(tidyverse)\n",
    "\n",
    "## DESEQ2\n",
    "library(\"BiocParallel\")\n",
    "register(MulticoreParam(4))\n",
    "library(\"DESeq2\")\n",
    "\n",
    "## CQN\n",
    "library(cqn)\n",
    "library(scales)\n",
    "\n",
    "## NOISEQ\n",
    "library(NOISeq)"
   ]
  },
  {
   "cell_type": "markdown",
   "id": "corporate-cornwall",
   "metadata": {},
   "source": [
    "## NOISEQ"
   ]
  },
  {
   "cell_type": "markdown",
   "id": "valuable-ethics",
   "metadata": {},
   "source": [
    "### PRE-FILTERING THROUGH NOISEQ"
   ]
  },
  {
   "cell_type": "code",
   "execution_count": null,
   "id": "dramatic-cisco",
   "metadata": {},
   "outputs": [],
   "source": [
    "%%R\n",
    "\n",
    "#######################################\n",
    "### NOISEQ PRE-FILTERING FOR GB ###\n",
    "#######################################\n",
    "GB <- data.frame(read.table('/research//projects//chlamydomonas//MAexpression//analysis//raw_counts//unnormalized_GB_raw.txt', sep = '\\t', header = TRUE, row.names = 'name', stringsAsFactors = FALSE))\n",
    "factor <- colnames(GB)[1:length(GB)]\n",
    "factor[grep('GB', factor)] <- 'treatment'\n",
    "factor <- matrix(factor, nrow = length(GB), ncol = 1)\n",
    "filtered_GB <- filtered.data(GB, factor, norm=FALSE, method=2, p.adj='BH')\n",
    "\n",
    "\n",
    "## EXPORTING PREFILTERED TEXTFILE\n",
    "rite.table(as.data.frame(filtered_GB), 'raw_counts//noiseq_filtered_unnormalized_GB.txt', sep=\"\\t\", quote = F)"
   ]
  },
  {
   "cell_type": "markdown",
   "id": "combined-terrorism",
   "metadata": {},
   "source": [
    "### FILTERED GC CONTENT"
   ]
  },
  {
   "cell_type": "code",
   "execution_count": null,
   "id": "behind-brighton",
   "metadata": {},
   "outputs": [],
   "source": [
    "## OPENING GC LENGTH AND FRAGMENT LENGTH\n",
    "gc_content = pd.read_csv('/research/projects/chlamydomonas/MAexpression/data/genome_info/v6_genome_plus_anno/GC_lengths.tsv', delimiter = '\\t')\n",
    "fragment_length = pd.read_csv('/research/projects/chlamydomonas/MAexpression/analysis/fpkm/fragment_length.csv', delimiter = '\\t')\n",
    "fragment_length = fragment_length.set_index('Unnamed: 0')\n",
    "\n",
    "## OPENING NOISEQ FILTERED GENE COUNTS\n",
    "GB_gene_count = pd.read_csv('/research/projects/chlamydomonas/MAexpression/analysis/raw_counts/noiseq_filtered_unnormalized_GB.txt', delimiter = '\\t')\n",
    "B_gene_count = GB_gene_count.join([fragment_length, gc_content['GC']])\n",
    "\n",
    "## EXPORT ##\n",
    "GB_gene_count.to_csv('/research/projects/chlamydomonas/MAexpression/analysis/raw_counts/GB_filtered_noiseq_wt_GC', sep = '\\t', index = True, header = True)"
   ]
  },
  {
   "cell_type": "markdown",
   "id": "practical-creation",
   "metadata": {},
   "source": [
    "### DESEQ NORMALIZING NOISEQ FILTERED DATA"
   ]
  },
  {
   "cell_type": "code",
   "execution_count": null,
   "id": "continent-evening",
   "metadata": {},
   "outputs": [],
   "source": [
    "%%R\n",
    "\n",
    "################\n",
    "#### GB ####\n",
    "################\n",
    "GB <- data.frame(read.csv('/research//projects//chlamydomonas//MAexpression//analysis//raw_counts//GB_filtered_noiseq_wt_GC', sep = '\\t', header = TRUE, row.names = 'X', stringsAsFactors = FALSE))\n",
    "condition <- colnames(GB)[1:(length(GB)-2)]\n",
    "counts <- GB[condition]\n",
    "condition_1 <- condition\n",
    "condition[grep('GB', condition)] <- 'treatment'\n",
    "\n",
    "coldata <- data.frame(condition, condition_1, row.names = 'condition_1')\n",
    "\n",
    "dds <- DESeqDataSetFromMatrix(countData = counts, colData = coldata, design = ~ condition)\n",
    "directory <- \"/research/projects/chlamydomonas/MAexpression/analysis/raw_counts/\"\n",
    "dds <- estimateSizeFactors(dds)\n",
    "counts <- counts(dds, normalized=TRUE)\n",
    "write.table(counts, paste(directory, \"GB_noiseq_filtered_deseq_normalized\", \".txt\", sep=\"\"), sep=\"\\t\", quote = F)"
   ]
  },
  {
   "cell_type": "markdown",
   "id": "dependent-dayton",
   "metadata": {},
   "source": [
    "### ADDING GC CONTENT TO DESEQ2 NORMALIZED NOISEQ FILTERED GENE COUNTS"
   ]
  },
  {
   "cell_type": "code",
   "execution_count": null,
   "id": "dense-atlanta",
   "metadata": {},
   "outputs": [],
   "source": [
    "# ## OPENING DESEQ2 NORMALIZED NOISEQ FILTERED GENE COUNTS\n",
    "GB_normalized_GC = pd.read_csv('/research/projects/chlamydomonas/MAexpression/analysis/raw_counts/GB_noiseq_filtered_deseq_normalized.txt', delimiter = '\\t')\n",
    "GB_normalized_GC = GB_normalized_GC.join([fragment_length, gc_content['GC']])\n",
    "\n",
    "# ## EXPORT ##\n",
    "GB_normalized_GC.to_csv('/research/projects/chlamydomonas/MAexpression/analysis/raw_counts/GB_deseq_normalized_noiseq_filtered_wt_GC', sep = '\\t', index = True, header = True)"
   ]
  },
  {
   "cell_type": "markdown",
   "id": "meaning-practitioner",
   "metadata": {},
   "source": [
    "### CREATING NOISEQ DATA OBJECT"
   ]
  },
  {
   "cell_type": "code",
   "execution_count": null,
   "id": "technical-baltimore",
   "metadata": {},
   "outputs": [],
   "source": [
    "GB_deseq_normalized <- data.frame(read.table('/research/projects/chlamydomonas/MAexpression/analysis/raw_counts/GB_deseq_normalized_noiseq_filtered_wt_GC', sep = '\\t', header = TRUE, stringsAsFactors = FALSE))\n",
    "GB_length <- data.frame(GB_deseq_normalized$total_exon_length)\n",
    "GB_GC <- data.frame(GB_deseq_normalized$GC)\n",
    "\n",
    "## PROVIDING INDEXES\n",
    "row.names(GB_length) <- GB_deseq_normalized$X\n",
    "row.names(GB_GC) <- GB_deseq_normalized$X\n",
    "row.names(GB_deseq_normalized) <- GB_deseq_normalized$X\n",
    "\n",
    "## CREATING FACTORS AND COUNTS\n",
    "GB_counts <- GB_deseq_normalized[colnames(GB_deseq_normalized)[2:(length(GB_deseq_normalized)-2)]]\n",
    "GB_factor <- colnames(GB_counts)\n",
    "GB_columns <- GB_factor\n",
    "colnames(GB_counts) <- GB_columns\n",
    "\n",
    "label <- c('GB117', 'GB119', 'GB49', 'GB141', 'GB66', 'GB57', 'GB13', 'GB123')\n",
    "for (i in label) {GB_factor[grep(i, label)] <- i}\n",
    "\n",
    "GB_factor <- data.frame(GB_factor)\n",
    "\n",
    "# ## CREATING READDATA FILES\n",
    "data_GB <- readData(data = GB_counts, length = GB_length, gc = GB_GC, factors = GB_factor)"
   ]
  },
  {
   "cell_type": "markdown",
   "id": "effective-surfing",
   "metadata": {},
   "source": [
    "## CONDITIONAL QUANTILE NORMALIZATION"
   ]
  },
  {
   "cell_type": "code",
   "execution_count": null,
   "id": "governing-blake",
   "metadata": {},
   "outputs": [],
   "source": [
    "####################################\n",
    "#### GB - CQN NORMALIZATION ####\n",
    "####################################\n",
    "directory <- \"/research/projects/chlamydomonas/MAexpression/analysis/raw_counts/\"\n",
    "GB_noiseq_filtered <- read.csv('/research/projects/chlamydomonas/MAexpression/analysis/raw_counts/GB_filtered_noiseq_wt_GC', sep = '\\t', header = TRUE, stringsAsFactors = FALSE, row.names = 'X')\n",
    "counts <- GB_noiseq_filtered[c(1:24)]\n",
    "cqn_res <- cqn(counts = counts, x = GB_noiseq_filtered$GC, lengths = GB_noiseq_filtered$total_exon_length)\n",
    "\n",
    "#### CREATING FACTORS AND COLDATA ####\n",
    "condition <- c('GB117', 'GB119', 'GB49', 'GB141', 'GB66', 'GB57', 'GB13', 'GB123')\n",
    "factor <- colnames(counts)\n",
    "columns <- factor\n",
    "for (i in condition) {factor[grep((i), factor)] <- i}\n",
    "coldata <- data.frame(factor, columns, row.names = 'columns')\n",
    "\n",
    "#### CREATING PLOT ####\n",
    "jpeg(file = \"cqn/GB_gc_plot_before.jpeg\")\n",
    "cqnplot(cqn_res, n = 1, xlab = 'GC content', ylim = c(3, 10))\n",
    "dev.off()\n",
    "\n",
    "jpeg(file = \"cqn/GB_length_plot_before.jpeg\")\n",
    "cqnplot(cqn_res, n = 2, xlim = c(-2,4.5), xlab = 'length', ylim = c(4, 8))\n",
    "dev.off()\n",
    "\n",
    "#### NORMALIZED EXPRESSION VALUES ####\n",
    "cqnnorm <- cqn_res$y + cqn_res$offset\n",
    "cqnOffset <- cqn_res$glm.offset\n",
    "cqnNormFactors <- exp(cqnOffset)\n",
    "cqnNormFactors[is.na(cqnNormFactors)] <- 1 ## replacing missing values with 1\n",
    "normFactors_sameScale <- cqnNormFactors/exp(rowMeans(log(cqnNormFactors)))\n",
    "\n",
    "#### CREATE DATASET USING NORMFACTORS_SAMESCALE ####\n",
    "GB_dds1 <- DESeqDataSetFromMatrix(countData = counts, colData = coldata, design = ~ factor)\n",
    "normalizationFactors(GB_dds1) <- normFactors_sameScale\n",
    "counts_nobias_sameScale = counts(GB_dds1, normalized = TRUE)\n",
    "write.table(counts_nobias_sameScale, paste(directory, \"GB_noiseq_filtered_cqn_normalized_samescale\", \".txt\", sep=\"\"), sep=\"\\t\", quote = F)\n",
    "\n",
    "#### CREATE DATASET USING NORMFACTORS ####\n",
    "GB_dds2 <- DESeqDataSetFromMatrix(countData = counts, colData = coldata, design = ~ factor)\n",
    "normalizationFactors(GB_dds2) = cqnNormFactors\n",
    "counts_nobias = counts(GB_dds2, normalized = TRUE)\n",
    "write.table(counts_nobias, paste(directory, \"GB_noiseq_filtered_cqn_normalized\", \".txt\", sep=\"\"), sep=\"\\t\", quote = F)"
   ]
  },
  {
   "cell_type": "code",
   "execution_count": null,
   "id": "functioning-semiconductor",
   "metadata": {},
   "outputs": [],
   "source": [
    "################################################\n",
    "### GB - RECHECKING CQN NORMALIZED DATA ####\n",
    "################################################\n",
    "GB_cqn_filtered <- read.csv('/research/projects/chlamydomonas/MAexpression/analysis/raw_counts/GB_noiseq_filtered_cqn_normalized_samescale.txt', sep = '\\t', header = TRUE, stringsAsFactors = FALSE)\n",
    "GB_noiseq_filtered <- read.csv('/research/projects/chlamydomonas/MAexpression/analysis/raw_counts/GB_filtered_noiseq_wt_GC', sep = '\\t', header = TRUE, stringsAsFactors = FALSE, row.names = 'X')\n",
    "cqn_res <- cqn(counts = GB_cqn_filtered, x = GB_noiseq_filtered$GC, lengths = GB_noiseq_filtered$total_exon_length)\n",
    "\n",
    "factor <- colnames(counts)\n",
    "columns <- factor\n",
    "condition <- c('GB117', 'GB119', 'GB49', 'GB141', 'GB66', 'GB57', 'GB13', 'GB123')\n",
    "for (i in condition) {factor[grep((i), factor)] <- i}\n",
    "coldata <- data.frame(factor, columns, row.names = 'columns')\n",
    "\n",
    "#### CREATING PLOT ####\n",
    "jpeg(file = \"cqn/GB_gc_plot_after.jpeg\")\n",
    "cqnplot(cqn_res, n = 1, xlab = 'GC content', ylim = c(3,10))\n",
    "dev.off()\n",
    "\n",
    "jpeg(file = \"cqn/GB_length_plot_after.jpeg\")\n",
    "cqnplot(cqn_res, n = 2, xlim = c(-2,4.5), xlab = 'length', ylim = c(4,8))\n",
    "dev.off()"
   ]
  },
  {
   "cell_type": "markdown",
   "id": "linear-macedonia",
   "metadata": {},
   "source": [
    "## DESEQ2 - DIFFERENTIAL EXPRESSION ANALYSIS"
   ]
  },
  {
   "cell_type": "code",
   "execution_count": null,
   "id": "auburn-immune",
   "metadata": {},
   "outputs": [],
   "source": [
    "#### USING DESEQ #####\n",
    "condition <- c('GB117', 'GB119', 'GB49', 'GB141', 'GB66', 'GB57', 'GB13', 'GB123')\n",
    "\n",
    "dds <- DESeq(GB_dds1, parallel = TRUE)\n",
    "res_GB119 <- results(dds, pAdjustMethod = \"BH\", contrast = c('factor', 'GB119', 'GB117'), alpha = 0.05)\n",
    "res_GB117 <- results(dds, pAdjustMethod = \"BH\", contrast = c('factor', 'GB117', 'GB119'), alpha = 0.05)\n",
    "res_GB49 <- results(dds, pAdjustMethod = \"BH\", contrast = c('factor', 'GB49', 'GB119'), alpha = 0.05)\n",
    "res_GB141 <- results(dds, pAdjustMethod = \"BH\", contrast = c('factor', 'GB141', 'GB119'), alpha = 0.05)\n",
    "res_GB66 <- results(dds, pAdjustMethod = \"BH\", contrast = c('factor', 'GB66', 'GB119'), alpha = 0.05)\n",
    "res_GB57 <- results(dds, pAdjustMethod = \"BH\", contrast = c('factor', 'GB57', 'GB119'), alpha = 0.05)\n",
    "res_GB13 <- results(dds, pAdjustMethod = \"BH\", contrast = c('factor', 'GB13', 'GB119'), alpha = 0.05)\n",
    "res_GB123 <- results(dds, pAdjustMethod = \"BH\", contrast = c('factor', 'GB123', 'GB119'), alpha = 0.05)\n",
    "\n",
    "#### SUMMARY OF PROFILE ####\n",
    "resOrdered_L1 <- res_GB119[order(res_GB119$pvalue),]\n",
    "resOrdered_L2 <- res_GB117[order(res_GB117$pvalue),]\n",
    "resOrdered_L3 <- res_GB49[order(res_GB49$pvalue),]\n",
    "resOrdered_L4 <- res_GB141[order(res_GB141$pvalue),]\n",
    "resOrdered_L5 <- res_GB66[order(res_GB66$pvalue),]\n",
    "resOrdered_L6 <- res_GB57[order(res_GB57$pvalue),]\n",
    "resOrdered_L7 <- res_GB13[order(res_GB13$pvalue),]\n",
    "resOrdered_L8 <- res_GB123[order(res_GB123$pvalue),]\n",
    "\n",
    "# summary(resOrdered_L1)\n",
    "# summary(resOrdered_L2)\n",
    "# summary(resOrdered_L3)\n",
    "# summary(resOrdered_L4)\n",
    "# summary(resOrdered_L5)\n",
    "# summary(resOrdered_L6)\n",
    "# summary(resOrdered_L7)\n",
    "# summary(resOrdered_L8)\n",
    "\n",
    "# #### LFC SHRINKAGE ####\n",
    "# resLFC_L1 <- lfcShrink(dds, coef=\"factor_GB119_vs_GB119\", type=\"apeglm\")\n",
    "# resLFC_L2 <- lfcShrink(dds, coef=\"factor_GB117_vs_GB119\", type=\"apeglm\")\n",
    "# resLFC_L3 <- lfcShrink(dds, coef=\"factor_GB49_vs_GB119\", type=\"apeglm\")\n",
    "# resLFC_L4 <- lfcShrink(dds, coef=\"factor_GB141_vs_GB119\", type=\"apeglm\")\n",
    "# resLFC_L5 <- lfcShrink(dds, coef=\"factor_GB66_vs_GB119\", type=\"apeglm\")\n",
    "# resLFC_L6 <- lfcShrink(dds, coef=\"factor_GB57_vs_GB119\", type=\"apeglm\")\n",
    "# resLFC_L7 <- lfcShrink(dds, coef=\"factor_GB13_vs_GB119\", type=\"apeglm\")\n",
    "# resLFC_L8 <- lfcShrink(dds, coef=\"factor_GB123_vs_GB119\", type=\"apeglm\")\n",
    "\n",
    "#### FILES OF DIFFERNTIALLY EXPRESSED GENES ####\n",
    "resSig_L1 = resOrdered_L1[which(resOrdered_L1$padj < 0.05),]\n",
    "resSig_L2 = resOrdered_L2[which(resOrdered_L2$padj < 0.05),]\n",
    "resSig_L3 = resOrdered_L3[which(resOrdered_L3$padj < 0.05),]\n",
    "resSig_L4 = resOrdered_L4[which(resOrdered_L4$padj < 0.05),]\n",
    "resSig_L5 = resOrdered_L5[which(resOrdered_L5$padj < 0.05),]\n",
    "resSig_L6 = resOrdered_L6[which(resOrdered_L6$padj < 0.05),]\n",
    "resSig_L7 = resOrdered_L7[which(resOrdered_L7$padj < 0.05),]\n",
    "resSig_L8 = resOrdered_L8[which(resOrdered_L8$padj < 0.05),]\n",
    "\n",
    "summary(resSig_L1)\n",
    "summary(resSig_L2)\n",
    "summary(resSig_L3)\n",
    "summary(resSig_L4)\n",
    "summary(resSig_L5)\n",
    "summary(resSig_L6)\n",
    "summary(resSig_L7)\n",
    "summary(resSig_L8)\n",
    "\n",
    "# #### PLOTS ####\n",
    "# plotMA(res_L1, ylim=c(-5,5))\n",
    "# plotMA(resLFC_L1, ylim=c(-5,5))\n",
    "# plotMA(res_L2, ylim=c(-5,5))\n",
    "# plotMA(resLFC_L2, ylim=c(-5,5))\n",
    "# plotMA(res_L3, ylim=c(-5,5))\n",
    "# plotMA(resLFC_L3, ylim=c(-5,5))\n",
    "# plotMA(res_L4, ylim=c(-5,5))\n",
    "# plotMA(resLFC_L4, ylim=c(-5,5))\n",
    "# plotMA(res_L5, ylim=c(-5,5))\n",
    "# plotMA(resLFC_L5, ylim=c(-5,5))\n",
    "# plotMA(res_L6, ylim=c(-5,5))\n",
    "# plotMA(resLFC_L6, ylim=c(-5,5))\n",
    "# plotMA(res_L7, ylim=c(-5,5))\n",
    "# plotMA(resLFC_L7, ylim=c(-5,5))\n",
    "# plotMA(res_L8, ylim=c(-5,5))\n",
    "# plotMA(resLFC_L8, ylim=c(-5,5))\n",
    "\n",
    "# #### EXPORTING FILES OF DIFFERNTIALLY EXPRESSED GENES ####\n",
    "# write.csv(as.data.frame(resSig_L1), file=\"CC2344.resSig_L1.genes\")\n",
    "# write.csv(as.data.frame(resSig_L2), file=\"CC2344.resSig_L2.genes\")\n",
    "# write.csv(as.data.frame(resSig_L3), file=\"CC2344.resSig_L3.genes\")\n",
    "# write.csv(as.data.frame(resSig_L4), file=\"CC2344.resSig_L4.genes\")\n",
    "# write.csv(as.data.frame(resSig_L5), file=\"CC2344.resSig_L5.genes\")\n",
    "# write.csv(as.data.frame(resSig_L6), file=\"CC2344.resSig_L6.genes\")\n",
    "# write.csv(as.data.frame(resSig_L7), file=\"CC2344.resSig_L7.genes\")\n",
    "# write.csv(as.data.frame(resSig_L8), file=\"CC2344.resSig_L8.genes\")\n",
    "\n",
    "#### EXPORTING LOG2FOLD CHANGE RESULTS ####\n",
    "write.table(as.data.frame(res_GB119), 'genes_log2fold/GB119',  sep=\"\\t\", quote = F)\n",
    "write.table(as.data.frame(res_GB117), 'genes_log2fold/GB117',  sep=\"\\t\", quote = F)\n",
    "write.table(as.data.frame(res_GB49), 'genes_log2fold/GB49',  sep=\"\\t\", quote = F)\n",
    "write.table(as.data.frame(res_GB141), 'genes_log2fold/GB141',  sep=\"\\t\", quote = F)\n",
    "write.table(as.data.frame(res_GB66), 'genes_log2fold/GB66',  sep=\"\\t\", quote = F)\n",
    "write.table(as.data.frame(res_GB57), 'genes_log2fold/GB57',  sep=\"\\t\", quote = F)\n",
    "write.table(as.data.frame(res_GB13), 'genes_log2fold/GB13',  sep=\"\\t\", quote = F)\n",
    "write.table(as.data.frame(res_GB123), 'genes_log2fold/GB123',  sep=\"\\t\", quote = F)\n",
    "\n",
    "# # #PCA PLOT\n",
    "# # vsdata <- vst(dds, blind=FALSE)\n",
    "# # plotPCA(vsdata, intgroup=\"condition\")"
   ]
  },
  {
   "cell_type": "markdown",
   "id": "accessory-depth",
   "metadata": {},
   "source": [
    "## GB STRAINS - EXPRESSION VARIATION PER INCREASING SAMPLE SIZE "
   ]
  },
  {
   "cell_type": "code",
   "execution_count": null,
   "id": "opposed-suspension",
   "metadata": {},
   "outputs": [],
   "source": [
    "GB = ['GB117', 'GB119', 'GB49', 'GB141', 'GB66', 'GB57', 'GB13', 'GB123']\n",
    "GB_log2Fold = pd.DataFrame()\n",
    "\n",
    "#### COMBINING LOG2FOLD CHANGES ACROSS GENOTYPES ####\n",
    "for i in GB:\n",
    "    GB_log2Fold[i] = pd.read_csv('/research/projects/chlamydomonas/MAexpression/analysis/genes_log2fold/' + i, delimiter = \"\\t\")['log2FoldChange']\n",
    "    \n",
    "#### EXPORTING LOG2FOLD VALUES ####\n",
    "GB_log2Fold.to_csv('/research/projects/chlamydomonas/MAexpression/analysis/raw_counts/GB_log2Fold', sep = '\\t', index = True, header = True)\n",
    "\n",
    "GB_log2Fold = pd.read_csv('/research/projects/chlamydomonas/MAexpression/analysis/raw_counts/GB_log2Fold', delimiter = '\\t', index_col = 'Unnamed: 0')\n",
    "GB = ['GB117', 'GB49', 'GB141', 'GB66', 'GB57', 'GB13', 'GB123'] ## Everything relative to GB119\n",
    "\n",
    "permutations_object = itertools.permutations(GB)\n",
    "permutations_list = list(permutations_object)\n",
    "GB_var= pd.DataFrame()\n",
    "\n",
    "for a in range(len(permutations_list)):\n",
    "    for i in range(7):\n",
    "        df = GB_log2Fold[list(permutations_list[a][:i + 1])]\n",
    "        extended_df = pd.melt(df, value_vars = list(permutations_list[a][:i + 1]))\n",
    "        GB_var.at[a, str(i + 1)] = extended_df['value'].var() \n",
    "\n",
    "mean_expression_variance = pd.DataFrame(GB_var.mean(axis = 0), columns = ['Mean Expression Variance']).reset_index().rename(columns = {'index':'# of samples'})\n",
    "\n",
    "sns.lineplot(data = mean_expression_variance, x = '# of samples', y = 'Mean Expression Variance')"
   ]
  }
 ],
 "metadata": {
  "kernelspec": {
   "display_name": "Python 3",
   "language": "python",
   "name": "python3"
  },
  "language_info": {
   "codemirror_mode": {
    "name": "ipython",
    "version": 3
   },
   "file_extension": ".py",
   "mimetype": "text/x-python",
   "name": "python",
   "nbconvert_exporter": "python",
   "pygments_lexer": "ipython3",
   "version": "3.8.5"
  },
  "toc": {
   "base_numbering": 1,
   "nav_menu": {},
   "number_sections": true,
   "sideBar": true,
   "skip_h1_title": false,
   "title_cell": "Table of Contents",
   "title_sidebar": "Contents",
   "toc_cell": true,
   "toc_position": {},
   "toc_section_display": true,
   "toc_window_display": false
  }
 },
 "nbformat": 4,
 "nbformat_minor": 5
}
