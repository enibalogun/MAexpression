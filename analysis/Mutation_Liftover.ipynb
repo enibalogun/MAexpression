{
 "cells": [
  {
   "cell_type": "markdown",
   "id": "cooked-vision",
   "metadata": {
    "toc": true
   },
   "source": [
    "<h1>Table of Contents<span class=\"tocSkip\"></span></h1>\n",
    "<div class=\"toc\"><ul class=\"toc-item\"></ul></div>"
   ]
  },
  {
   "cell_type": "code",
   "execution_count": 5,
   "id": "medium-gossip",
   "metadata": {},
   "outputs": [
    {
     "name": "stderr",
     "output_type": "stream",
     "text": [
      "<ipython-input-5-7a55450775f6>:15: SettingWithCopyWarning: \n",
      "A value is trying to be set on a copy of a slice from a DataFrame.\n",
      "Try using .loc[row_indexer,col_indexer] = value instead\n",
      "\n",
      "See the caveats in the documentation: https://pandas.pydata.org/pandas-docs/stable/user_guide/indexing.html#returning-a-view-versus-a-copy\n",
      "  specific_mut_loc['end'] = 'NA'\n",
      "<ipython-input-5-7a55450775f6>:18: SettingWithCopyWarning: \n",
      "A value is trying to be set on a copy of a slice from a DataFrame\n",
      "\n",
      "See the caveats in the documentation: https://pandas.pydata.org/pandas-docs/stable/user_guide/indexing.html#returning-a-view-versus-a-copy\n",
      "  specific_mut_loc['end'][i] = specific_mut_loc['position'][i] + 1\n",
      "/home/balogu15/.local/lib/python3.8/site-packages/IPython/core/interactiveshell.py:3427: SettingWithCopyWarning: \n",
      "A value is trying to be set on a copy of a slice from a DataFrame\n",
      "\n",
      "See the caveats in the documentation: https://pandas.pydata.org/pandas-docs/stable/user_guide/indexing.html#returning-a-view-versus-a-copy\n",
      "  exec(code_obj, self.user_global_ns, self.user_ns)\n"
     ]
    },
    {
     "data": {
      "text/html": [
       "<div>\n",
       "<style scoped>\n",
       "    .dataframe tbody tr th:only-of-type {\n",
       "        vertical-align: middle;\n",
       "    }\n",
       "\n",
       "    .dataframe tbody tr th {\n",
       "        vertical-align: top;\n",
       "    }\n",
       "\n",
       "    .dataframe thead th {\n",
       "        text-align: right;\n",
       "    }\n",
       "</style>\n",
       "<table border=\"1\" class=\"dataframe\">\n",
       "  <thead>\n",
       "    <tr style=\"text-align: right;\">\n",
       "      <th></th>\n",
       "      <th>chromosome</th>\n",
       "      <th>start</th>\n",
       "      <th>end</th>\n",
       "      <th>mutant_sample</th>\n",
       "    </tr>\n",
       "  </thead>\n",
       "  <tbody>\n",
       "    <tr>\n",
       "      <th>0</th>\n",
       "      <td>chromosome_1</td>\n",
       "      <td>57386</td>\n",
       "      <td>57387</td>\n",
       "      <td>CC2931_12</td>\n",
       "    </tr>\n",
       "    <tr>\n",
       "      <th>5</th>\n",
       "      <td>chromosome_1</td>\n",
       "      <td>120115</td>\n",
       "      <td>120116</td>\n",
       "      <td>CC2931_14</td>\n",
       "    </tr>\n",
       "    <tr>\n",
       "      <th>15</th>\n",
       "      <td>chromosome_1</td>\n",
       "      <td>295658</td>\n",
       "      <td>295659</td>\n",
       "      <td>CC2931_7</td>\n",
       "    </tr>\n",
       "    <tr>\n",
       "      <th>17</th>\n",
       "      <td>chromosome_1</td>\n",
       "      <td>317791</td>\n",
       "      <td>317792</td>\n",
       "      <td>CC2931_12</td>\n",
       "    </tr>\n",
       "    <tr>\n",
       "      <th>20</th>\n",
       "      <td>chromosome_1</td>\n",
       "      <td>374878</td>\n",
       "      <td>374879</td>\n",
       "      <td>CC2931_2</td>\n",
       "    </tr>\n",
       "  </tbody>\n",
       "</table>\n",
       "</div>"
      ],
      "text/plain": [
       "      chromosome   start     end mutant_sample\n",
       "0   chromosome_1   57386   57387     CC2931_12\n",
       "5   chromosome_1  120115  120116     CC2931_14\n",
       "15  chromosome_1  295658  295659      CC2931_7\n",
       "17  chromosome_1  317791  317792     CC2931_12\n",
       "20  chromosome_1  374878  374879      CC2931_2"
      ]
     },
     "execution_count": 5,
     "metadata": {},
     "output_type": "execute_result"
    }
   ],
   "source": [
    "import pandas as pd\n",
    "mutation_location = pd.read_csv('/research/projects/chlamydomonas/MAexpression/data/genome_info/Mutation_Location.txt', delimiter = '\\t')[['chromosome', 'position', 'mutant_sample']]\n",
    "\n",
    "CC2931_loc_index = []\n",
    "CC2344_loc_index = []\n",
    "\n",
    "for i in list(mutation_location.index.values): \n",
    "    if 'CC2931_' in mutation_location['mutant_sample'][i]:\n",
    "        CC2931_loc_index.append(i)\n",
    "    if 'CC2344_' in mutation_location['mutant_sample'][i]: \n",
    "        CC2344_loc_index.append(i)\n",
    "        \n",
    "specific_mut_loc = mutation_location.iloc[CC2931_loc_index + CC2344_loc_index]\n",
    "specific_mut_loc['end'] = 'NA'\n",
    "\n",
    "for i in list(specific_mut_loc.index.values):\n",
    "    specific_mut_loc['end'][i] = specific_mut_loc['position'][i] + 1\n",
    "specific_mut_loc.columns = ['chromosome', 'start', 'mutant_sample','end']\n",
    "specific_mut_loc = specific_mut_loc[['chromosome', 'start', 'end', 'mutant_sample']]\n",
    "specific_mut_loc.head()"
   ]
  },
  {
   "cell_type": "code",
   "execution_count": 6,
   "id": "friendly-colonial",
   "metadata": {},
   "outputs": [
    {
     "data": {
      "text/plain": [
       "<BedTool(/research/projects/chlamydomonas/MAexpression/data/genome_info/v5_coordinates.bed)>"
      ]
     },
     "execution_count": 6,
     "metadata": {},
     "output_type": "execute_result"
    }
   ],
   "source": [
    "import pybedtools\n",
    "new_mutation_location = pybedtools.BedTool.from_dataframe(specific_mut_loc)\n",
    "new_mutation_location.saveas('/research/projects/chlamydomonas/MAexpression/data/genome_info/v5_coordinates.bed')"
   ]
  },
  {
   "cell_type": "code",
   "execution_count": null,
   "id": "general-madness",
   "metadata": {},
   "outputs": [],
   "source": [
    "halLiftover Cr_3way.hal CC503v5 v5.coordinates.bed CC4532v6 v6.coordinates.bed ## code\n",
    "# halLiftover <hal file> CC503v5 <source_bedfile> CC4532v6 <target_bedfile>"
   ]
  }
 ],
 "metadata": {
  "kernelspec": {
   "display_name": "Python [conda env:.conda-personal] *",
   "language": "python",
   "name": "conda-env-.conda-personal-py"
  },
  "language_info": {
   "codemirror_mode": {
    "name": "ipython",
    "version": 3
   },
   "file_extension": ".py",
   "mimetype": "text/x-python",
   "name": "python",
   "nbconvert_exporter": "python",
   "pygments_lexer": "ipython3",
   "version": "3.8.5"
  },
  "toc": {
   "base_numbering": 1,
   "nav_menu": {},
   "number_sections": true,
   "sideBar": true,
   "skip_h1_title": false,
   "title_cell": "Table of Contents",
   "title_sidebar": "Contents",
   "toc_cell": true,
   "toc_position": {},
   "toc_section_display": true,
   "toc_window_display": false
  }
 },
 "nbformat": 4,
 "nbformat_minor": 5
}
